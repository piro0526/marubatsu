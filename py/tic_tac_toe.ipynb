{
 "cells": [
  {
   "cell_type": "code",
   "execution_count": 1,
   "metadata": {},
   "outputs": [],
   "source": [
    "import tic_tac_toe as t3"
   ]
  },
  {
   "cell_type": "code",
   "execution_count": 2,
   "metadata": {},
   "outputs": [],
   "source": [
    "def display(board: t3.Board):\n",
    "    print(\"  a b c \")\n",
    "    for y in range(1, t3.BOARD_COL_SIZE + 1):\n",
    "        print(y, end=\"\")\n",
    "        print(\" \", end=\"\")\n",
    "        for x in range(1, t3.BOARD_ROW_SIZE + 1):\n",
    "            p = t3.Point(x, y)\n",
    "            m = board.getMark(p)\n",
    "            if(m == t3.X):\n",
    "                print(\"X\", end=\"\")\n",
    "            elif(m == t3.O):\n",
    "                print(\"O\", end=\"\")\n",
    "            else:\n",
    "                print(\" \", end=\"\")\n",
    "            if(x != t3.BOARD_ROW_SIZE):\n",
    "                print(\"|\", end=\"\")\n",
    "        print(\"\")"
   ]
  },
  {
   "cell_type": "code",
   "execution_count": 3,
   "metadata": {},
   "outputs": [],
   "source": [
    "b = t3.Board()"
   ]
  },
  {
   "cell_type": "code",
   "execution_count": 4,
   "metadata": {},
   "outputs": [
    {
     "name": "stdout",
     "output_type": "stream",
     "text": [
      "  a b c \n",
      "1  | | \n",
      "2  | | \n",
      "3  | | \n"
     ]
    }
   ],
   "source": [
    "display(b)"
   ]
  },
  {
   "cell_type": "code",
   "execution_count": null,
   "metadata": {},
   "outputs": [],
   "source": [
    "b.place(t3.Point(1, 1))"
   ]
  },
  {
   "cell_type": "code",
   "execution_count": 5,
   "metadata": {},
   "outputs": [
    {
     "name": "stdout",
     "output_type": "stream",
     "text": [
      "  a b c \n",
      "1  | | \n",
      "2  | | \n",
      "3  | | \n",
      "a1\n",
      "1\n",
      "1\n",
      "can't put the disc there!!\n",
      "  a b c \n",
      "1  | | \n",
      "2  | | \n",
      "3  | | \n"
     ]
    }
   ],
   "source": [
    "while 1:\n",
    "    display(b)\n",
    "    s = input()\n",
    "    print(s)\n",
    "    p = t3.Point()\n",
    "\n",
    "    if(s == \"u\"):\n",
    "        b.undo()\n",
    "        b.switchMark()\n",
    "        continue\n",
    "\n",
    "    if(s == \"e\"):\n",
    "        break\n",
    "        \n",
    "    if(len(s) >= 2):\n",
    "        p.setX(ord(s[0]) - ord(\"a\") + 1)\n",
    "        p.setX(ord(s[1]) - ord(\"1\") + 1)\n",
    "    else:\n",
    "        print(\"invalid input!!\")\n",
    "        b.switchMark()\n",
    "        continue\n",
    "    \n",
    "    if(not b.place(p)):\n",
    "        print(p.getX())\n",
    "        print(p.getY())\n",
    "        print(\"can't put the disc there!!\")\n",
    "        b.switchMark()\n",
    "        continue\n",
    "\n",
    "    if (b.isGameOver()):\n",
    "        print(f\"{'X' if b.getCurrentMark() == t3.X else 'O'} win!!\")\n",
    "        break\n",
    "    \n",
    "    b.switchMark()"
   ]
  },
  {
   "cell_type": "code",
   "execution_count": 7,
   "metadata": {},
   "outputs": [
    {
     "name": "stdout",
     "output_type": "stream",
     "text": [
      "  a b c \n",
      "1  | | \n",
      "2  | | \n",
      "3  | | \n"
     ]
    }
   ],
   "source": [
    "display(b)"
   ]
  },
  {
   "cell_type": "code",
   "execution_count": 8,
   "metadata": {},
   "outputs": [
    {
     "name": "stdout",
     "output_type": "stream",
     "text": [
      "  a b c \n",
      "1 O| | \n",
      "2  | | \n",
      "3  | | \n"
     ]
    }
   ],
   "source": [
    "b.place(t3.Point(1, 1))\n",
    "display(b)\n",
    "b.switchMark()"
   ]
  },
  {
   "cell_type": "code",
   "execution_count": 9,
   "metadata": {},
   "outputs": [
    {
     "name": "stdout",
     "output_type": "stream",
     "text": [
      "  a b c \n",
      "1 O| | \n",
      "2 X| | \n",
      "3  | | \n"
     ]
    }
   ],
   "source": [
    "b.place(t3.Point(1, 2))\n",
    "display(b)\n",
    "b.switchMark()"
   ]
  },
  {
   "cell_type": "code",
   "execution_count": 10,
   "metadata": {},
   "outputs": [
    {
     "name": "stdout",
     "output_type": "stream",
     "text": [
      "  a b c \n",
      "1 O| | \n",
      "2 X|O| \n",
      "3  | | \n"
     ]
    }
   ],
   "source": [
    "b.place(t3.Point(2, 2))\n",
    "display(b)\n",
    "b.switchMark()"
   ]
  },
  {
   "cell_type": "code",
   "execution_count": 11,
   "metadata": {},
   "outputs": [
    {
     "name": "stdout",
     "output_type": "stream",
     "text": [
      "  a b c \n",
      "1 O| | \n",
      "2 X|O| \n",
      "3 X| | \n"
     ]
    }
   ],
   "source": [
    "b.place(t3.Point(1, 3))\n",
    "display(b)\n",
    "b.switchMark()"
   ]
  },
  {
   "cell_type": "code",
   "execution_count": 12,
   "metadata": {},
   "outputs": [
    {
     "name": "stdout",
     "output_type": "stream",
     "text": [
      "  a b c \n",
      "1 O| | \n",
      "2 X|O| \n",
      "3 X| |O\n"
     ]
    }
   ],
   "source": [
    "b.place(t3.Point(3, 3))\n",
    "display(b)\n",
    "b.switchMark()"
   ]
  },
  {
   "cell_type": "code",
   "execution_count": 13,
   "metadata": {},
   "outputs": [
    {
     "data": {
      "text/plain": [
       "True"
      ]
     },
     "execution_count": 13,
     "metadata": {},
     "output_type": "execute_result"
    }
   ],
   "source": [
    "b.switchMark()\n",
    "b.checkLine()"
   ]
  }
 ],
 "metadata": {
  "kernelspec": {
   "display_name": ".tic_tac_toe",
   "language": "python",
   "name": "python3"
  },
  "language_info": {
   "codemirror_mode": {
    "name": "ipython",
    "version": 3
   },
   "file_extension": ".py",
   "mimetype": "text/x-python",
   "name": "python",
   "nbconvert_exporter": "python",
   "pygments_lexer": "ipython3",
   "version": "3.9.18"
  }
 },
 "nbformat": 4,
 "nbformat_minor": 2
}
