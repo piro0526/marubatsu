{
 "cells": [
  {
   "cell_type": "code",
   "execution_count": 22,
   "metadata": {},
   "outputs": [],
   "source": [
    "import tic_tac_toe as t3"
   ]
  },
  {
   "cell_type": "code",
   "execution_count": 29,
   "metadata": {},
   "outputs": [],
   "source": [
    "p = t3.Point(1, 1)"
   ]
  },
  {
   "cell_type": "code",
   "execution_count": 35,
   "metadata": {},
   "outputs": [
    {
     "data": {
      "text/plain": [
       "tic_tac_toe.Point"
      ]
     },
     "execution_count": 35,
     "metadata": {},
     "output_type": "execute_result"
    }
   ],
   "source": [
    "type(p)"
   ]
  },
  {
   "cell_type": "code",
   "execution_count": 39,
   "metadata": {},
   "outputs": [],
   "source": [
    "def display(board):\n",
    "    print(\" a b c \")\n",
    "    for y in range(1, t3.BOARD_COL_SIZE + 1):\n",
    "        print(\" \")\n",
    "        for x in range(1, t3.BOARD_ROW_SIZE + 1):\n",
    "            p = t3.Point(x, y)\n",
    "            m = board.getMark(p)\n",
    "            if(m == t3.X):\n",
    "                print(\"X\")\n",
    "            elif(m == t3.O):\n",
    "                print(\"O\")\n",
    "            if(x != t3.BOARD_ROW_SIZE):\n",
    "                print(\"|\")\n",
    "        if(x != t3.BOARD_COL_SIZE):\n",
    "            print(\"-------\")"
   ]
  },
  {
   "cell_type": "code",
   "execution_count": 37,
   "metadata": {},
   "outputs": [],
   "source": [
    "board = t3.Board"
   ]
  },
  {
   "cell_type": "code",
   "execution_count": 40,
   "metadata": {},
   "outputs": [
    {
     "name": "stdout",
     "output_type": "stream",
     "text": [
      " a b c \n",
      " \n"
     ]
    },
    {
     "ename": "TypeError",
     "evalue": "getMark(): incompatible function arguments. The following argument types are supported:\n    1. (self: tic_tac_toe.Board, arg0: tic_tac_toe.Point) -> int\n\nInvoked with: <class 'tic_tac_toe.Board'>, <tic_tac_toe.Point object at 0x7f3ab23c71b0>",
     "output_type": "error",
     "traceback": [
      "\u001b[0;31m---------------------------------------------------------------------------\u001b[0m",
      "\u001b[0;31mTypeError\u001b[0m                                 Traceback (most recent call last)",
      "\u001b[1;32m/home/piro3112/marubatsu/py/tic_tac_toe.ipynb セル 6\u001b[0m line \u001b[0;36m1\n\u001b[0;32m----> <a href='vscode-notebook-cell://wsl%2Bubuntu/home/piro3112/marubatsu/py/tic_tac_toe.ipynb#W6sdnNjb2RlLXJlbW90ZQ%3D%3D?line=0'>1</a>\u001b[0m display(board)\n",
      "\u001b[1;32m/home/piro3112/marubatsu/py/tic_tac_toe.ipynb セル 6\u001b[0m line \u001b[0;36m7\n\u001b[1;32m      <a href='vscode-notebook-cell://wsl%2Bubuntu/home/piro3112/marubatsu/py/tic_tac_toe.ipynb#W6sdnNjb2RlLXJlbW90ZQ%3D%3D?line=4'>5</a>\u001b[0m \u001b[39mfor\u001b[39;00m x \u001b[39min\u001b[39;00m \u001b[39mrange\u001b[39m(\u001b[39m1\u001b[39m, t3\u001b[39m.\u001b[39mBOARD_ROW_SIZE \u001b[39m+\u001b[39m \u001b[39m1\u001b[39m):\n\u001b[1;32m      <a href='vscode-notebook-cell://wsl%2Bubuntu/home/piro3112/marubatsu/py/tic_tac_toe.ipynb#W6sdnNjb2RlLXJlbW90ZQ%3D%3D?line=5'>6</a>\u001b[0m     p \u001b[39m=\u001b[39m t3\u001b[39m.\u001b[39mPoint(x, y)\n\u001b[0;32m----> <a href='vscode-notebook-cell://wsl%2Bubuntu/home/piro3112/marubatsu/py/tic_tac_toe.ipynb#W6sdnNjb2RlLXJlbW90ZQ%3D%3D?line=6'>7</a>\u001b[0m     m \u001b[39m=\u001b[39m board\u001b[39m.\u001b[39;49mgetMark(board, p)\n\u001b[1;32m      <a href='vscode-notebook-cell://wsl%2Bubuntu/home/piro3112/marubatsu/py/tic_tac_toe.ipynb#W6sdnNjb2RlLXJlbW90ZQ%3D%3D?line=7'>8</a>\u001b[0m     \u001b[39mif\u001b[39;00m(m \u001b[39m==\u001b[39m t3\u001b[39m.\u001b[39mX):\n\u001b[1;32m      <a href='vscode-notebook-cell://wsl%2Bubuntu/home/piro3112/marubatsu/py/tic_tac_toe.ipynb#W6sdnNjb2RlLXJlbW90ZQ%3D%3D?line=8'>9</a>\u001b[0m         \u001b[39mprint\u001b[39m(\u001b[39m\"\u001b[39m\u001b[39mX\u001b[39m\u001b[39m\"\u001b[39m)\n",
      "\u001b[0;31mTypeError\u001b[0m: getMark(): incompatible function arguments. The following argument types are supported:\n    1. (self: tic_tac_toe.Board, arg0: tic_tac_toe.Point) -> int\n\nInvoked with: <class 'tic_tac_toe.Board'>, <tic_tac_toe.Point object at 0x7f3ab23c71b0>"
     ]
    }
   ],
   "source": [
    "display(board)"
   ]
  }
 ],
 "metadata": {
  "kernelspec": {
   "display_name": ".tic_tac_toe",
   "language": "python",
   "name": "python3"
  },
  "language_info": {
   "codemirror_mode": {
    "name": "ipython",
    "version": 3
   },
   "file_extension": ".py",
   "mimetype": "text/x-python",
   "name": "python",
   "nbconvert_exporter": "python",
   "pygments_lexer": "ipython3",
   "version": "3.9.18"
  }
 },
 "nbformat": 4,
 "nbformat_minor": 2
}
