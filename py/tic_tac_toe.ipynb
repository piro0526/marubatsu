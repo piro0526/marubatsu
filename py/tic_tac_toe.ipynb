{
 "cells": [
  {
   "cell_type": "code",
   "execution_count": 9,
   "metadata": {},
   "outputs": [],
   "source": [
    "import tic_tac_toe as t3"
   ]
  },
  {
   "cell_type": "code",
   "execution_count": 10,
   "metadata": {},
   "outputs": [],
   "source": [
    "def display(board: t3.Board):\n",
    "    print(b.getTurns()+1)\n",
    "    print(\"  a b c \")\n",
    "    for y in range(1, t3.BOARD_COL_SIZE + 1):\n",
    "        print(y, end=\"\")\n",
    "        print(\" \", end=\"\")\n",
    "        for x in range(1, t3.BOARD_ROW_SIZE + 1):\n",
    "            p = t3.Point(x, y)\n",
    "            m = board.getMark(p)\n",
    "            if(m == t3.X):\n",
    "                print(\"X\", end=\"\")\n",
    "            elif(m == t3.O):\n",
    "                print(\"O\", end=\"\")\n",
    "            else:\n",
    "                print(\" \", end=\"\")\n",
    "            if(x != t3.BOARD_ROW_SIZE):\n",
    "                print(\"|\", end=\"\")\n",
    "        print(\"\")"
   ]
  },
  {
   "cell_type": "code",
   "execution_count": 11,
   "metadata": {},
   "outputs": [],
   "source": [
    "b = t3.Board()"
   ]
  },
  {
   "cell_type": "code",
   "execution_count": 12,
   "metadata": {},
   "outputs": [
    {
     "name": "stdout",
     "output_type": "stream",
     "text": [
      "1\n",
      "  a b c \n",
      "1 O| | \n",
      "2  | | \n",
      "3  | | \n"
     ]
    }
   ],
   "source": [
    "if(b.place(t3.Point(1, 1))):\n",
    "    display(b)\n",
    "    b.switchMark()\n",
    "else:\n",
    "    print(\"can't put the disc there\")"
   ]
  },
  {
   "cell_type": "code",
   "execution_count": 13,
   "metadata": {},
   "outputs": [
    {
     "name": "stdout",
     "output_type": "stream",
     "text": [
      "can't put the disc there\n"
     ]
    }
   ],
   "source": [
    "if(b.place(t3.Point(1, 1))):\n",
    "    display(b)\n",
    "    b.switchMark()\n",
    "else:\n",
    "    print(\"can't put the disc there\")"
   ]
  },
  {
   "cell_type": "code",
   "execution_count": 14,
   "metadata": {},
   "outputs": [
    {
     "name": "stdout",
     "output_type": "stream",
     "text": [
      "2\n",
      "  a b c \n",
      "1 O| | \n",
      "2 X| | \n",
      "3  | | \n"
     ]
    }
   ],
   "source": [
    "if(b.place(t3.Point(1, 2))):\n",
    "    display(b)\n",
    "    b.switchMark()\n",
    "else:\n",
    "    print(\"can't put the disc there\")"
   ]
  },
  {
   "cell_type": "code",
   "execution_count": 15,
   "metadata": {},
   "outputs": [
    {
     "data": {
      "text/plain": [
       "True"
      ]
     },
     "execution_count": 15,
     "metadata": {},
     "output_type": "execute_result"
    }
   ],
   "source": [
    "b.undo()"
   ]
  },
  {
   "cell_type": "code",
   "execution_count": 16,
   "metadata": {},
   "outputs": [
    {
     "name": "stdout",
     "output_type": "stream",
     "text": [
      "2\n",
      "  a b c \n",
      "1 O| | \n",
      "2  | | \n",
      "3  | | \n"
     ]
    }
   ],
   "source": [
    "display(b)"
   ]
  },
  {
   "cell_type": "code",
   "execution_count": 17,
   "metadata": {},
   "outputs": [
    {
     "name": "stdout",
     "output_type": "stream",
     "text": [
      "2\n",
      "  a b c \n",
      "1 O| | \n",
      "2 X| | \n",
      "3  | | \n"
     ]
    }
   ],
   "source": [
    "if(b.place(t3.Point(1, 2))):\n",
    "    display(b)\n",
    "    b.switchMark()\n",
    "else:\n",
    "    print(\"can't put the disc there\")"
   ]
  }
 ],
 "metadata": {
  "kernelspec": {
   "display_name": "tic_tac_toe",
   "language": "python",
   "name": "tic_tac_toe"
  },
  "language_info": {
   "codemirror_mode": {
    "name": "ipython",
    "version": 3
   },
   "file_extension": ".py",
   "mimetype": "text/x-python",
   "name": "python",
   "nbconvert_exporter": "python",
   "pygments_lexer": "ipython3",
   "version": "3.10.12"
  }
 },
 "nbformat": 4,
 "nbformat_minor": 2
}
